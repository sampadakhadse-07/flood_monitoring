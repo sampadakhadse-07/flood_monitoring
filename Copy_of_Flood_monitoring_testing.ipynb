{
  "nbformat": 4,
  "nbformat_minor": 0,
  "metadata": {
    "colab": {
      "provenance": [],
      "authorship_tag": "ABX9TyNkmOa52lMXGi4GYtOriHfz",
      "include_colab_link": true
    },
    "kernelspec": {
      "name": "python3",
      "display_name": "Python 3"
    },
    "language_info": {
      "name": "python"
    }
  },
  "cells": [
    {
      "cell_type": "markdown",
      "metadata": {
        "id": "view-in-github",
        "colab_type": "text"
      },
      "source": [
        "<a href=\"https://colab.research.google.com/github/sampadakhadse-07/flood_monitoring/blob/main/Copy_of_Flood_monitoring_testing.ipynb\" target=\"_parent\"><img src=\"https://colab.research.google.com/assets/colab-badge.svg\" alt=\"Open In Colab\"/></a>"
      ]
    },
    {
      "cell_type": "code",
      "execution_count": null,
      "metadata": {
        "colab": {
          "base_uri": "https://localhost:8080/",
          "height": 215
        },
        "id": "HvJr5o5G5ukB",
        "outputId": "46eb38e9-d976-4fb0-ca59-28dedd0f4292"
      },
      "outputs": [
        {
          "output_type": "stream",
          "name": "stdout",
          "text": [
            "Upload your image ZIP file...\n"
          ]
        },
        {
          "output_type": "display_data",
          "data": {
            "text/plain": [
              "<IPython.core.display.HTML object>"
            ],
            "text/html": [
              "\n",
              "     <input type=\"file\" id=\"files-c77da1b5-a5f8-455b-ab8a-6bcbe02b54ee\" name=\"files[]\" multiple disabled\n",
              "        style=\"border:none\" />\n",
              "     <output id=\"result-c77da1b5-a5f8-455b-ab8a-6bcbe02b54ee\">\n",
              "      Upload widget is only available when the cell has been executed in the\n",
              "      current browser session. Please rerun this cell to enable.\n",
              "      </output>\n",
              "      <script>// Copyright 2017 Google LLC\n",
              "//\n",
              "// Licensed under the Apache License, Version 2.0 (the \"License\");\n",
              "// you may not use this file except in compliance with the License.\n",
              "// You may obtain a copy of the License at\n",
              "//\n",
              "//      http://www.apache.org/licenses/LICENSE-2.0\n",
              "//\n",
              "// Unless required by applicable law or agreed to in writing, software\n",
              "// distributed under the License is distributed on an \"AS IS\" BASIS,\n",
              "// WITHOUT WARRANTIES OR CONDITIONS OF ANY KIND, either express or implied.\n",
              "// See the License for the specific language governing permissions and\n",
              "// limitations under the License.\n",
              "\n",
              "/**\n",
              " * @fileoverview Helpers for google.colab Python module.\n",
              " */\n",
              "(function(scope) {\n",
              "function span(text, styleAttributes = {}) {\n",
              "  const element = document.createElement('span');\n",
              "  element.textContent = text;\n",
              "  for (const key of Object.keys(styleAttributes)) {\n",
              "    element.style[key] = styleAttributes[key];\n",
              "  }\n",
              "  return element;\n",
              "}\n",
              "\n",
              "// Max number of bytes which will be uploaded at a time.\n",
              "const MAX_PAYLOAD_SIZE = 100 * 1024;\n",
              "\n",
              "function _uploadFiles(inputId, outputId) {\n",
              "  const steps = uploadFilesStep(inputId, outputId);\n",
              "  const outputElement = document.getElementById(outputId);\n",
              "  // Cache steps on the outputElement to make it available for the next call\n",
              "  // to uploadFilesContinue from Python.\n",
              "  outputElement.steps = steps;\n",
              "\n",
              "  return _uploadFilesContinue(outputId);\n",
              "}\n",
              "\n",
              "// This is roughly an async generator (not supported in the browser yet),\n",
              "// where there are multiple asynchronous steps and the Python side is going\n",
              "// to poll for completion of each step.\n",
              "// This uses a Promise to block the python side on completion of each step,\n",
              "// then passes the result of the previous step as the input to the next step.\n",
              "function _uploadFilesContinue(outputId) {\n",
              "  const outputElement = document.getElementById(outputId);\n",
              "  const steps = outputElement.steps;\n",
              "\n",
              "  const next = steps.next(outputElement.lastPromiseValue);\n",
              "  return Promise.resolve(next.value.promise).then((value) => {\n",
              "    // Cache the last promise value to make it available to the next\n",
              "    // step of the generator.\n",
              "    outputElement.lastPromiseValue = value;\n",
              "    return next.value.response;\n",
              "  });\n",
              "}\n",
              "\n",
              "/**\n",
              " * Generator function which is called between each async step of the upload\n",
              " * process.\n",
              " * @param {string} inputId Element ID of the input file picker element.\n",
              " * @param {string} outputId Element ID of the output display.\n",
              " * @return {!Iterable<!Object>} Iterable of next steps.\n",
              " */\n",
              "function* uploadFilesStep(inputId, outputId) {\n",
              "  const inputElement = document.getElementById(inputId);\n",
              "  inputElement.disabled = false;\n",
              "\n",
              "  const outputElement = document.getElementById(outputId);\n",
              "  outputElement.innerHTML = '';\n",
              "\n",
              "  const pickedPromise = new Promise((resolve) => {\n",
              "    inputElement.addEventListener('change', (e) => {\n",
              "      resolve(e.target.files);\n",
              "    });\n",
              "  });\n",
              "\n",
              "  const cancel = document.createElement('button');\n",
              "  inputElement.parentElement.appendChild(cancel);\n",
              "  cancel.textContent = 'Cancel upload';\n",
              "  const cancelPromise = new Promise((resolve) => {\n",
              "    cancel.onclick = () => {\n",
              "      resolve(null);\n",
              "    };\n",
              "  });\n",
              "\n",
              "  // Wait for the user to pick the files.\n",
              "  const files = yield {\n",
              "    promise: Promise.race([pickedPromise, cancelPromise]),\n",
              "    response: {\n",
              "      action: 'starting',\n",
              "    }\n",
              "  };\n",
              "\n",
              "  cancel.remove();\n",
              "\n",
              "  // Disable the input element since further picks are not allowed.\n",
              "  inputElement.disabled = true;\n",
              "\n",
              "  if (!files) {\n",
              "    return {\n",
              "      response: {\n",
              "        action: 'complete',\n",
              "      }\n",
              "    };\n",
              "  }\n",
              "\n",
              "  for (const file of files) {\n",
              "    const li = document.createElement('li');\n",
              "    li.append(span(file.name, {fontWeight: 'bold'}));\n",
              "    li.append(span(\n",
              "        `(${file.type || 'n/a'}) - ${file.size} bytes, ` +\n",
              "        `last modified: ${\n",
              "            file.lastModifiedDate ? file.lastModifiedDate.toLocaleDateString() :\n",
              "                                    'n/a'} - `));\n",
              "    const percent = span('0% done');\n",
              "    li.appendChild(percent);\n",
              "\n",
              "    outputElement.appendChild(li);\n",
              "\n",
              "    const fileDataPromise = new Promise((resolve) => {\n",
              "      const reader = new FileReader();\n",
              "      reader.onload = (e) => {\n",
              "        resolve(e.target.result);\n",
              "      };\n",
              "      reader.readAsArrayBuffer(file);\n",
              "    });\n",
              "    // Wait for the data to be ready.\n",
              "    let fileData = yield {\n",
              "      promise: fileDataPromise,\n",
              "      response: {\n",
              "        action: 'continue',\n",
              "      }\n",
              "    };\n",
              "\n",
              "    // Use a chunked sending to avoid message size limits. See b/62115660.\n",
              "    let position = 0;\n",
              "    do {\n",
              "      const length = Math.min(fileData.byteLength - position, MAX_PAYLOAD_SIZE);\n",
              "      const chunk = new Uint8Array(fileData, position, length);\n",
              "      position += length;\n",
              "\n",
              "      const base64 = btoa(String.fromCharCode.apply(null, chunk));\n",
              "      yield {\n",
              "        response: {\n",
              "          action: 'append',\n",
              "          file: file.name,\n",
              "          data: base64,\n",
              "        },\n",
              "      };\n",
              "\n",
              "      let percentDone = fileData.byteLength === 0 ?\n",
              "          100 :\n",
              "          Math.round((position / fileData.byteLength) * 100);\n",
              "      percent.textContent = `${percentDone}% done`;\n",
              "\n",
              "    } while (position < fileData.byteLength);\n",
              "  }\n",
              "\n",
              "  // All done.\n",
              "  yield {\n",
              "    response: {\n",
              "      action: 'complete',\n",
              "    }\n",
              "  };\n",
              "}\n",
              "\n",
              "scope.google = scope.google || {};\n",
              "scope.google.colab = scope.google.colab || {};\n",
              "scope.google.colab._files = {\n",
              "  _uploadFiles,\n",
              "  _uploadFilesContinue,\n",
              "};\n",
              "})(self);\n",
              "</script> "
            ]
          },
          "metadata": {}
        },
        {
          "output_type": "stream",
          "name": "stdout",
          "text": [
            "Saving ManjiraDam_data.zip to ManjiraDam_data.zip\n",
            "Images extracted to 'images/' folder.\n",
            "Upload your CSV file...\n"
          ]
        },
        {
          "output_type": "display_data",
          "data": {
            "text/plain": [
              "<IPython.core.display.HTML object>"
            ],
            "text/html": [
              "\n",
              "     <input type=\"file\" id=\"files-f32214bc-4557-4ae7-b6f7-39ab6cfe23b3\" name=\"files[]\" multiple disabled\n",
              "        style=\"border:none\" />\n",
              "     <output id=\"result-f32214bc-4557-4ae7-b6f7-39ab6cfe23b3\">\n",
              "      Upload widget is only available when the cell has been executed in the\n",
              "      current browser session. Please rerun this cell to enable.\n",
              "      </output>\n",
              "      <script>// Copyright 2017 Google LLC\n",
              "//\n",
              "// Licensed under the Apache License, Version 2.0 (the \"License\");\n",
              "// you may not use this file except in compliance with the License.\n",
              "// You may obtain a copy of the License at\n",
              "//\n",
              "//      http://www.apache.org/licenses/LICENSE-2.0\n",
              "//\n",
              "// Unless required by applicable law or agreed to in writing, software\n",
              "// distributed under the License is distributed on an \"AS IS\" BASIS,\n",
              "// WITHOUT WARRANTIES OR CONDITIONS OF ANY KIND, either express or implied.\n",
              "// See the License for the specific language governing permissions and\n",
              "// limitations under the License.\n",
              "\n",
              "/**\n",
              " * @fileoverview Helpers for google.colab Python module.\n",
              " */\n",
              "(function(scope) {\n",
              "function span(text, styleAttributes = {}) {\n",
              "  const element = document.createElement('span');\n",
              "  element.textContent = text;\n",
              "  for (const key of Object.keys(styleAttributes)) {\n",
              "    element.style[key] = styleAttributes[key];\n",
              "  }\n",
              "  return element;\n",
              "}\n",
              "\n",
              "// Max number of bytes which will be uploaded at a time.\n",
              "const MAX_PAYLOAD_SIZE = 100 * 1024;\n",
              "\n",
              "function _uploadFiles(inputId, outputId) {\n",
              "  const steps = uploadFilesStep(inputId, outputId);\n",
              "  const outputElement = document.getElementById(outputId);\n",
              "  // Cache steps on the outputElement to make it available for the next call\n",
              "  // to uploadFilesContinue from Python.\n",
              "  outputElement.steps = steps;\n",
              "\n",
              "  return _uploadFilesContinue(outputId);\n",
              "}\n",
              "\n",
              "// This is roughly an async generator (not supported in the browser yet),\n",
              "// where there are multiple asynchronous steps and the Python side is going\n",
              "// to poll for completion of each step.\n",
              "// This uses a Promise to block the python side on completion of each step,\n",
              "// then passes the result of the previous step as the input to the next step.\n",
              "function _uploadFilesContinue(outputId) {\n",
              "  const outputElement = document.getElementById(outputId);\n",
              "  const steps = outputElement.steps;\n",
              "\n",
              "  const next = steps.next(outputElement.lastPromiseValue);\n",
              "  return Promise.resolve(next.value.promise).then((value) => {\n",
              "    // Cache the last promise value to make it available to the next\n",
              "    // step of the generator.\n",
              "    outputElement.lastPromiseValue = value;\n",
              "    return next.value.response;\n",
              "  });\n",
              "}\n",
              "\n",
              "/**\n",
              " * Generator function which is called between each async step of the upload\n",
              " * process.\n",
              " * @param {string} inputId Element ID of the input file picker element.\n",
              " * @param {string} outputId Element ID of the output display.\n",
              " * @return {!Iterable<!Object>} Iterable of next steps.\n",
              " */\n",
              "function* uploadFilesStep(inputId, outputId) {\n",
              "  const inputElement = document.getElementById(inputId);\n",
              "  inputElement.disabled = false;\n",
              "\n",
              "  const outputElement = document.getElementById(outputId);\n",
              "  outputElement.innerHTML = '';\n",
              "\n",
              "  const pickedPromise = new Promise((resolve) => {\n",
              "    inputElement.addEventListener('change', (e) => {\n",
              "      resolve(e.target.files);\n",
              "    });\n",
              "  });\n",
              "\n",
              "  const cancel = document.createElement('button');\n",
              "  inputElement.parentElement.appendChild(cancel);\n",
              "  cancel.textContent = 'Cancel upload';\n",
              "  const cancelPromise = new Promise((resolve) => {\n",
              "    cancel.onclick = () => {\n",
              "      resolve(null);\n",
              "    };\n",
              "  });\n",
              "\n",
              "  // Wait for the user to pick the files.\n",
              "  const files = yield {\n",
              "    promise: Promise.race([pickedPromise, cancelPromise]),\n",
              "    response: {\n",
              "      action: 'starting',\n",
              "    }\n",
              "  };\n",
              "\n",
              "  cancel.remove();\n",
              "\n",
              "  // Disable the input element since further picks are not allowed.\n",
              "  inputElement.disabled = true;\n",
              "\n",
              "  if (!files) {\n",
              "    return {\n",
              "      response: {\n",
              "        action: 'complete',\n",
              "      }\n",
              "    };\n",
              "  }\n",
              "\n",
              "  for (const file of files) {\n",
              "    const li = document.createElement('li');\n",
              "    li.append(span(file.name, {fontWeight: 'bold'}));\n",
              "    li.append(span(\n",
              "        `(${file.type || 'n/a'}) - ${file.size} bytes, ` +\n",
              "        `last modified: ${\n",
              "            file.lastModifiedDate ? file.lastModifiedDate.toLocaleDateString() :\n",
              "                                    'n/a'} - `));\n",
              "    const percent = span('0% done');\n",
              "    li.appendChild(percent);\n",
              "\n",
              "    outputElement.appendChild(li);\n",
              "\n",
              "    const fileDataPromise = new Promise((resolve) => {\n",
              "      const reader = new FileReader();\n",
              "      reader.onload = (e) => {\n",
              "        resolve(e.target.result);\n",
              "      };\n",
              "      reader.readAsArrayBuffer(file);\n",
              "    });\n",
              "    // Wait for the data to be ready.\n",
              "    let fileData = yield {\n",
              "      promise: fileDataPromise,\n",
              "      response: {\n",
              "        action: 'continue',\n",
              "      }\n",
              "    };\n",
              "\n",
              "    // Use a chunked sending to avoid message size limits. See b/62115660.\n",
              "    let position = 0;\n",
              "    do {\n",
              "      const length = Math.min(fileData.byteLength - position, MAX_PAYLOAD_SIZE);\n",
              "      const chunk = new Uint8Array(fileData, position, length);\n",
              "      position += length;\n",
              "\n",
              "      const base64 = btoa(String.fromCharCode.apply(null, chunk));\n",
              "      yield {\n",
              "        response: {\n",
              "          action: 'append',\n",
              "          file: file.name,\n",
              "          data: base64,\n",
              "        },\n",
              "      };\n",
              "\n",
              "      let percentDone = fileData.byteLength === 0 ?\n",
              "          100 :\n",
              "          Math.round((position / fileData.byteLength) * 100);\n",
              "      percent.textContent = `${percentDone}% done`;\n",
              "\n",
              "    } while (position < fileData.byteLength);\n",
              "  }\n",
              "\n",
              "  // All done.\n",
              "  yield {\n",
              "    response: {\n",
              "      action: 'complete',\n",
              "    }\n",
              "  };\n",
              "}\n",
              "\n",
              "scope.google = scope.google || {};\n",
              "scope.google.colab = scope.google.colab || {};\n",
              "scope.google.colab._files = {\n",
              "  _uploadFiles,\n",
              "  _uploadFilesContinue,\n",
              "};\n",
              "})(self);\n",
              "</script> "
            ]
          },
          "metadata": {}
        },
        {
          "output_type": "stream",
          "name": "stdout",
          "text": [
            "Saving Flood_Data.csv to Flood_Data.csv\n",
            "Before cleaning: 1778\n",
            "After cleaning: 1312\n"
          ]
        },
        {
          "output_type": "display_data",
          "data": {
            "text/plain": [
              "<IPython.core.display.Javascript object>"
            ],
            "application/javascript": [
              "\n",
              "    async function download(id, filename, size) {\n",
              "      if (!google.colab.kernel.accessAllowed) {\n",
              "        return;\n",
              "      }\n",
              "      const div = document.createElement('div');\n",
              "      const label = document.createElement('label');\n",
              "      label.textContent = `Downloading \"${filename}\": `;\n",
              "      div.appendChild(label);\n",
              "      const progress = document.createElement('progress');\n",
              "      progress.max = size;\n",
              "      div.appendChild(progress);\n",
              "      document.body.appendChild(div);\n",
              "\n",
              "      const buffers = [];\n",
              "      let downloaded = 0;\n",
              "\n",
              "      const channel = await google.colab.kernel.comms.open(id);\n",
              "      // Send a message to notify the kernel that we're ready.\n",
              "      channel.send({})\n",
              "\n",
              "      for await (const message of channel.messages) {\n",
              "        // Send a message to notify the kernel that we're ready.\n",
              "        channel.send({})\n",
              "        if (message.buffers) {\n",
              "          for (const buffer of message.buffers) {\n",
              "            buffers.push(buffer);\n",
              "            downloaded += buffer.byteLength;\n",
              "            progress.value = downloaded;\n",
              "          }\n",
              "        }\n",
              "      }\n",
              "      const blob = new Blob(buffers, {type: 'application/binary'});\n",
              "      const a = document.createElement('a');\n",
              "      a.href = window.URL.createObjectURL(blob);\n",
              "      a.download = filename;\n",
              "      div.appendChild(a);\n",
              "      a.click();\n",
              "      div.remove();\n",
              "    }\n",
              "  "
            ]
          },
          "metadata": {}
        },
        {
          "output_type": "display_data",
          "data": {
            "text/plain": [
              "<IPython.core.display.Javascript object>"
            ],
            "application/javascript": [
              "download(\"download_86f21850-7fa5-4fae-971e-a094f42c6824\", \"cleaned_dataset.csv\", 42014)"
            ]
          },
          "metadata": {}
        }
      ],
      "source": [
        "import re\n",
        "import pandas as pd\n",
        "import zipfile\n",
        "import os\n",
        "from google.colab import files\n",
        "\n",
        "print(\"Upload your image ZIP file...\")\n",
        "uploaded = files.upload()\n",
        "\n",
        "zip_filename = list(uploaded.keys())[0]\n",
        "\n",
        "with zipfile.ZipFile(zip_filename, 'r') as zip_ref:\n",
        "    zip_ref.extractall(\"images\")\n",
        "\n",
        "print(\"Images extracted to 'images/' folder.\")\n",
        "\n",
        "print(\"Upload your CSV file...\")\n",
        "uploaded_csv = files.upload()\n",
        "csv_filename = list(uploaded_csv.keys())[0]\n",
        "\n",
        "df = pd.read_csv(csv_filename)\n",
        "\n",
        "pattern = r'^\\d{2}-\\d{2}-\\d{4}_\\d{2}-\\d{2}-\\d{2}\\.jpg$'\n",
        "\n",
        "df_clean = df[df['TimeStamp'].apply(lambda x: bool(re.match(pattern, str(x))))]\n",
        "\n",
        "print(\"Before cleaning:\", len(df))\n",
        "print(\"After cleaning:\", len(df_clean))\n",
        "\n",
        "output_csv = \"cleaned_dataset.csv\"\n",
        "df_clean.to_csv(output_csv, index=False)\n",
        "\n",
        "files.download(output_csv)\n"
      ]
    },
    {
      "cell_type": "code",
      "source": [
        "!pip install --quiet opencv-python-headless tensorflow scikit-learn"
      ],
      "metadata": {
        "id": "qpGkGh9F2JEh"
      },
      "execution_count": 1,
      "outputs": []
    },
    {
      "cell_type": "code",
      "source": [
        "csv_path = \"cleaned_dataset.csv\"\n",
        "\n",
        "extract_dir = \"images\"\n",
        "\n",
        "print(\"CSV path:\", csv_path)\n",
        "print(\"Image folder path:\", extract_dir)\n"
      ],
      "metadata": {
        "colab": {
          "base_uri": "https://localhost:8080/"
        },
        "id": "oQWu2l1_3pTR",
        "outputId": "667b29f1-3abc-4e37-8c23-32e695308e82"
      },
      "execution_count": 3,
      "outputs": [
        {
          "output_type": "stream",
          "name": "stdout",
          "text": [
            "CSV path: cleaned_dataset.csv\n",
            "Image folder path: images\n"
          ]
        }
      ]
    },
    {
      "cell_type": "code",
      "source": [
        "from google.colab import files\n",
        "import pandas as pd\n",
        "\n",
        "uploaded = files.upload()\n",
        "\n",
        "csv_path = \"cleaned_dataset.csv\"\n",
        "df = pd.read_csv(csv_path)\n",
        "\n",
        "df.columns = [c.strip() for c in df.columns]\n",
        "print(\"Columns:\", df.columns.tolist())\n",
        "print(\"Rows:\", len(df))\n",
        "\n",
        "if 'Distance' not in df.columns:\n",
        "    raise ValueError(\"No 'Distance' column found. Columns: \" + str(df.columns.tolist()))\n",
        "\n",
        "dist = df['Distance'].dropna().astype(float)\n",
        "print(dist.describe())\n",
        "\n",
        "threshold = float(dist.mean() - dist.std())\n",
        "print(f\"Chosen threshold = {threshold:.4f}\")\n"
      ],
      "metadata": {
        "colab": {
          "base_uri": "https://localhost:8080/",
          "height": 281
        },
        "id": "KmCgxNPe5HOB",
        "outputId": "82c45e3a-2163-4e46-8f8c-00cfcae884f4"
      },
      "execution_count": 6,
      "outputs": [
        {
          "output_type": "display_data",
          "data": {
            "text/plain": [
              "<IPython.core.display.HTML object>"
            ],
            "text/html": [
              "\n",
              "     <input type=\"file\" id=\"files-5c8edc7e-dddd-4e2b-bbbb-ca007aa07624\" name=\"files[]\" multiple disabled\n",
              "        style=\"border:none\" />\n",
              "     <output id=\"result-5c8edc7e-dddd-4e2b-bbbb-ca007aa07624\">\n",
              "      Upload widget is only available when the cell has been executed in the\n",
              "      current browser session. Please rerun this cell to enable.\n",
              "      </output>\n",
              "      <script>// Copyright 2017 Google LLC\n",
              "//\n",
              "// Licensed under the Apache License, Version 2.0 (the \"License\");\n",
              "// you may not use this file except in compliance with the License.\n",
              "// You may obtain a copy of the License at\n",
              "//\n",
              "//      http://www.apache.org/licenses/LICENSE-2.0\n",
              "//\n",
              "// Unless required by applicable law or agreed to in writing, software\n",
              "// distributed under the License is distributed on an \"AS IS\" BASIS,\n",
              "// WITHOUT WARRANTIES OR CONDITIONS OF ANY KIND, either express or implied.\n",
              "// See the License for the specific language governing permissions and\n",
              "// limitations under the License.\n",
              "\n",
              "/**\n",
              " * @fileoverview Helpers for google.colab Python module.\n",
              " */\n",
              "(function(scope) {\n",
              "function span(text, styleAttributes = {}) {\n",
              "  const element = document.createElement('span');\n",
              "  element.textContent = text;\n",
              "  for (const key of Object.keys(styleAttributes)) {\n",
              "    element.style[key] = styleAttributes[key];\n",
              "  }\n",
              "  return element;\n",
              "}\n",
              "\n",
              "// Max number of bytes which will be uploaded at a time.\n",
              "const MAX_PAYLOAD_SIZE = 100 * 1024;\n",
              "\n",
              "function _uploadFiles(inputId, outputId) {\n",
              "  const steps = uploadFilesStep(inputId, outputId);\n",
              "  const outputElement = document.getElementById(outputId);\n",
              "  // Cache steps on the outputElement to make it available for the next call\n",
              "  // to uploadFilesContinue from Python.\n",
              "  outputElement.steps = steps;\n",
              "\n",
              "  return _uploadFilesContinue(outputId);\n",
              "}\n",
              "\n",
              "// This is roughly an async generator (not supported in the browser yet),\n",
              "// where there are multiple asynchronous steps and the Python side is going\n",
              "// to poll for completion of each step.\n",
              "// This uses a Promise to block the python side on completion of each step,\n",
              "// then passes the result of the previous step as the input to the next step.\n",
              "function _uploadFilesContinue(outputId) {\n",
              "  const outputElement = document.getElementById(outputId);\n",
              "  const steps = outputElement.steps;\n",
              "\n",
              "  const next = steps.next(outputElement.lastPromiseValue);\n",
              "  return Promise.resolve(next.value.promise).then((value) => {\n",
              "    // Cache the last promise value to make it available to the next\n",
              "    // step of the generator.\n",
              "    outputElement.lastPromiseValue = value;\n",
              "    return next.value.response;\n",
              "  });\n",
              "}\n",
              "\n",
              "/**\n",
              " * Generator function which is called between each async step of the upload\n",
              " * process.\n",
              " * @param {string} inputId Element ID of the input file picker element.\n",
              " * @param {string} outputId Element ID of the output display.\n",
              " * @return {!Iterable<!Object>} Iterable of next steps.\n",
              " */\n",
              "function* uploadFilesStep(inputId, outputId) {\n",
              "  const inputElement = document.getElementById(inputId);\n",
              "  inputElement.disabled = false;\n",
              "\n",
              "  const outputElement = document.getElementById(outputId);\n",
              "  outputElement.innerHTML = '';\n",
              "\n",
              "  const pickedPromise = new Promise((resolve) => {\n",
              "    inputElement.addEventListener('change', (e) => {\n",
              "      resolve(e.target.files);\n",
              "    });\n",
              "  });\n",
              "\n",
              "  const cancel = document.createElement('button');\n",
              "  inputElement.parentElement.appendChild(cancel);\n",
              "  cancel.textContent = 'Cancel upload';\n",
              "  const cancelPromise = new Promise((resolve) => {\n",
              "    cancel.onclick = () => {\n",
              "      resolve(null);\n",
              "    };\n",
              "  });\n",
              "\n",
              "  // Wait for the user to pick the files.\n",
              "  const files = yield {\n",
              "    promise: Promise.race([pickedPromise, cancelPromise]),\n",
              "    response: {\n",
              "      action: 'starting',\n",
              "    }\n",
              "  };\n",
              "\n",
              "  cancel.remove();\n",
              "\n",
              "  // Disable the input element since further picks are not allowed.\n",
              "  inputElement.disabled = true;\n",
              "\n",
              "  if (!files) {\n",
              "    return {\n",
              "      response: {\n",
              "        action: 'complete',\n",
              "      }\n",
              "    };\n",
              "  }\n",
              "\n",
              "  for (const file of files) {\n",
              "    const li = document.createElement('li');\n",
              "    li.append(span(file.name, {fontWeight: 'bold'}));\n",
              "    li.append(span(\n",
              "        `(${file.type || 'n/a'}) - ${file.size} bytes, ` +\n",
              "        `last modified: ${\n",
              "            file.lastModifiedDate ? file.lastModifiedDate.toLocaleDateString() :\n",
              "                                    'n/a'} - `));\n",
              "    const percent = span('0% done');\n",
              "    li.appendChild(percent);\n",
              "\n",
              "    outputElement.appendChild(li);\n",
              "\n",
              "    const fileDataPromise = new Promise((resolve) => {\n",
              "      const reader = new FileReader();\n",
              "      reader.onload = (e) => {\n",
              "        resolve(e.target.result);\n",
              "      };\n",
              "      reader.readAsArrayBuffer(file);\n",
              "    });\n",
              "    // Wait for the data to be ready.\n",
              "    let fileData = yield {\n",
              "      promise: fileDataPromise,\n",
              "      response: {\n",
              "        action: 'continue',\n",
              "      }\n",
              "    };\n",
              "\n",
              "    // Use a chunked sending to avoid message size limits. See b/62115660.\n",
              "    let position = 0;\n",
              "    do {\n",
              "      const length = Math.min(fileData.byteLength - position, MAX_PAYLOAD_SIZE);\n",
              "      const chunk = new Uint8Array(fileData, position, length);\n",
              "      position += length;\n",
              "\n",
              "      const base64 = btoa(String.fromCharCode.apply(null, chunk));\n",
              "      yield {\n",
              "        response: {\n",
              "          action: 'append',\n",
              "          file: file.name,\n",
              "          data: base64,\n",
              "        },\n",
              "      };\n",
              "\n",
              "      let percentDone = fileData.byteLength === 0 ?\n",
              "          100 :\n",
              "          Math.round((position / fileData.byteLength) * 100);\n",
              "      percent.textContent = `${percentDone}% done`;\n",
              "\n",
              "    } while (position < fileData.byteLength);\n",
              "  }\n",
              "\n",
              "  // All done.\n",
              "  yield {\n",
              "    response: {\n",
              "      action: 'complete',\n",
              "    }\n",
              "  };\n",
              "}\n",
              "\n",
              "scope.google = scope.google || {};\n",
              "scope.google.colab = scope.google.colab || {};\n",
              "scope.google.colab._files = {\n",
              "  _uploadFiles,\n",
              "  _uploadFilesContinue,\n",
              "};\n",
              "})(self);\n",
              "</script> "
            ]
          },
          "metadata": {}
        },
        {
          "output_type": "stream",
          "name": "stdout",
          "text": [
            "Saving cleaned_dataset.csv to cleaned_dataset.csv\n",
            "Columns: ['TimeStamp', 'LineCount', 'Distance']\n",
            "Rows: 1312\n",
            "count    1312.000000\n",
            "mean       51.478049\n",
            "std         0.385242\n",
            "min        51.000000\n",
            "25%        51.200000\n",
            "50%        51.200000\n",
            "75%        51.800000\n",
            "max        52.200000\n",
            "Name: Distance, dtype: float64\n",
            "Chosen threshold = 51.0928\n"
          ]
        }
      ]
    },
    {
      "cell_type": "code",
      "source": [
        "import os\n",
        "\n",
        "df['label'] = (df['Distance'] <= threshold).astype(int)\n",
        "df['label_str'] = df['label'].map({1: 'RED', 0: 'GREEN'})\n",
        "\n",
        "extract_dir = \"images\"\n",
        "image_index = {}\n",
        "for root, dirs, files in os.walk(extract_dir):\n",
        "    for fname in files:\n",
        "        image_index[fname] = os.path.join(root, fname)\n",
        "\n",
        "df['image_path'] = df['TimeStamp'].apply(lambda x: image_index.get(str(x).strip()))\n",
        "\n",
        "missing = df['image_path'].isna().sum()\n",
        "print(\"Missing image paths:\", missing)\n",
        "df = df.dropna(subset=['image_path']).reset_index(drop=True)\n",
        "\n",
        "print(df[['TimeStamp','Distance','label_str','image_path']].head())\n"
      ],
      "metadata": {
        "colab": {
          "base_uri": "https://localhost:8080/"
        },
        "id": "HZFgNFWq5WkY",
        "outputId": "16fc6d5f-c0ca-4a16-a7fc-cea4be2b8409"
      },
      "execution_count": 7,
      "outputs": [
        {
          "output_type": "stream",
          "name": "stdout",
          "text": [
            "Missing image paths: 1312\n",
            "Empty DataFrame\n",
            "Columns: [TimeStamp, Distance, label_str, image_path]\n",
            "Index: []\n"
          ]
        }
      ]
    },
    {
      "cell_type": "code",
      "source": [
        "print(df['TimeStamp'].head(10).tolist())"
      ],
      "metadata": {
        "colab": {
          "base_uri": "https://localhost:8080/"
        },
        "id": "h7Rbl30e6Yoz",
        "outputId": "ddb4f035-a50a-4ecb-81cd-a9f6b3ae3196"
      },
      "execution_count": 8,
      "outputs": [
        {
          "output_type": "stream",
          "name": "stdout",
          "text": [
            "[]\n"
          ]
        }
      ]
    },
    {
      "cell_type": "code",
      "source": [
        "print(\"Columns in CSV:\", df.columns.tolist())\n",
        "print(df.head(5))\n"
      ],
      "metadata": {
        "colab": {
          "base_uri": "https://localhost:8080/"
        },
        "id": "vnsdRCq77OaT",
        "outputId": "01678eed-1ff2-464f-a5b5-ff0578a7cac5"
      },
      "execution_count": 9,
      "outputs": [
        {
          "output_type": "stream",
          "name": "stdout",
          "text": [
            "Columns in CSV: ['TimeStamp', 'LineCount', 'Distance', 'label', 'label_str', 'image_path']\n",
            "Empty DataFrame\n",
            "Columns: [TimeStamp, LineCount, Distance, label, label_str, image_path]\n",
            "Index: []\n"
          ]
        }
      ]
    },
    {
      "cell_type": "code",
      "source": [
        "\n",
        "from google.colab import files\n",
        "import pandas as pd\n",
        "\n",
        "uploaded = files.upload()\n",
        "csv_path = \"Flood_Data.csv\"\n",
        "\n",
        "df = pd.read_csv(csv_path)\n",
        "print(\"Original Columns:\", df.columns.tolist())\n",
        "print(\"Total rows before cleaning:\", len(df))\n",
        "print(df.head(5))\n"
      ],
      "metadata": {
        "colab": {
          "base_uri": "https://localhost:8080/",
          "height": 212
        },
        "id": "NFvA7IVz8bUs",
        "outputId": "859d245a-bfcd-4706-e017-3a4168b6df58"
      },
      "execution_count": 30,
      "outputs": [
        {
          "output_type": "display_data",
          "data": {
            "text/plain": [
              "<IPython.core.display.HTML object>"
            ],
            "text/html": [
              "\n",
              "     <input type=\"file\" id=\"files-d93b7dde-4f4d-46b5-8024-fc98c00e9ce5\" name=\"files[]\" multiple disabled\n",
              "        style=\"border:none\" />\n",
              "     <output id=\"result-d93b7dde-4f4d-46b5-8024-fc98c00e9ce5\">\n",
              "      Upload widget is only available when the cell has been executed in the\n",
              "      current browser session. Please rerun this cell to enable.\n",
              "      </output>\n",
              "      <script>// Copyright 2017 Google LLC\n",
              "//\n",
              "// Licensed under the Apache License, Version 2.0 (the \"License\");\n",
              "// you may not use this file except in compliance with the License.\n",
              "// You may obtain a copy of the License at\n",
              "//\n",
              "//      http://www.apache.org/licenses/LICENSE-2.0\n",
              "//\n",
              "// Unless required by applicable law or agreed to in writing, software\n",
              "// distributed under the License is distributed on an \"AS IS\" BASIS,\n",
              "// WITHOUT WARRANTIES OR CONDITIONS OF ANY KIND, either express or implied.\n",
              "// See the License for the specific language governing permissions and\n",
              "// limitations under the License.\n",
              "\n",
              "/**\n",
              " * @fileoverview Helpers for google.colab Python module.\n",
              " */\n",
              "(function(scope) {\n",
              "function span(text, styleAttributes = {}) {\n",
              "  const element = document.createElement('span');\n",
              "  element.textContent = text;\n",
              "  for (const key of Object.keys(styleAttributes)) {\n",
              "    element.style[key] = styleAttributes[key];\n",
              "  }\n",
              "  return element;\n",
              "}\n",
              "\n",
              "// Max number of bytes which will be uploaded at a time.\n",
              "const MAX_PAYLOAD_SIZE = 100 * 1024;\n",
              "\n",
              "function _uploadFiles(inputId, outputId) {\n",
              "  const steps = uploadFilesStep(inputId, outputId);\n",
              "  const outputElement = document.getElementById(outputId);\n",
              "  // Cache steps on the outputElement to make it available for the next call\n",
              "  // to uploadFilesContinue from Python.\n",
              "  outputElement.steps = steps;\n",
              "\n",
              "  return _uploadFilesContinue(outputId);\n",
              "}\n",
              "\n",
              "// This is roughly an async generator (not supported in the browser yet),\n",
              "// where there are multiple asynchronous steps and the Python side is going\n",
              "// to poll for completion of each step.\n",
              "// This uses a Promise to block the python side on completion of each step,\n",
              "// then passes the result of the previous step as the input to the next step.\n",
              "function _uploadFilesContinue(outputId) {\n",
              "  const outputElement = document.getElementById(outputId);\n",
              "  const steps = outputElement.steps;\n",
              "\n",
              "  const next = steps.next(outputElement.lastPromiseValue);\n",
              "  return Promise.resolve(next.value.promise).then((value) => {\n",
              "    // Cache the last promise value to make it available to the next\n",
              "    // step of the generator.\n",
              "    outputElement.lastPromiseValue = value;\n",
              "    return next.value.response;\n",
              "  });\n",
              "}\n",
              "\n",
              "/**\n",
              " * Generator function which is called between each async step of the upload\n",
              " * process.\n",
              " * @param {string} inputId Element ID of the input file picker element.\n",
              " * @param {string} outputId Element ID of the output display.\n",
              " * @return {!Iterable<!Object>} Iterable of next steps.\n",
              " */\n",
              "function* uploadFilesStep(inputId, outputId) {\n",
              "  const inputElement = document.getElementById(inputId);\n",
              "  inputElement.disabled = false;\n",
              "\n",
              "  const outputElement = document.getElementById(outputId);\n",
              "  outputElement.innerHTML = '';\n",
              "\n",
              "  const pickedPromise = new Promise((resolve) => {\n",
              "    inputElement.addEventListener('change', (e) => {\n",
              "      resolve(e.target.files);\n",
              "    });\n",
              "  });\n",
              "\n",
              "  const cancel = document.createElement('button');\n",
              "  inputElement.parentElement.appendChild(cancel);\n",
              "  cancel.textContent = 'Cancel upload';\n",
              "  const cancelPromise = new Promise((resolve) => {\n",
              "    cancel.onclick = () => {\n",
              "      resolve(null);\n",
              "    };\n",
              "  });\n",
              "\n",
              "  // Wait for the user to pick the files.\n",
              "  const files = yield {\n",
              "    promise: Promise.race([pickedPromise, cancelPromise]),\n",
              "    response: {\n",
              "      action: 'starting',\n",
              "    }\n",
              "  };\n",
              "\n",
              "  cancel.remove();\n",
              "\n",
              "  // Disable the input element since further picks are not allowed.\n",
              "  inputElement.disabled = true;\n",
              "\n",
              "  if (!files) {\n",
              "    return {\n",
              "      response: {\n",
              "        action: 'complete',\n",
              "      }\n",
              "    };\n",
              "  }\n",
              "\n",
              "  for (const file of files) {\n",
              "    const li = document.createElement('li');\n",
              "    li.append(span(file.name, {fontWeight: 'bold'}));\n",
              "    li.append(span(\n",
              "        `(${file.type || 'n/a'}) - ${file.size} bytes, ` +\n",
              "        `last modified: ${\n",
              "            file.lastModifiedDate ? file.lastModifiedDate.toLocaleDateString() :\n",
              "                                    'n/a'} - `));\n",
              "    const percent = span('0% done');\n",
              "    li.appendChild(percent);\n",
              "\n",
              "    outputElement.appendChild(li);\n",
              "\n",
              "    const fileDataPromise = new Promise((resolve) => {\n",
              "      const reader = new FileReader();\n",
              "      reader.onload = (e) => {\n",
              "        resolve(e.target.result);\n",
              "      };\n",
              "      reader.readAsArrayBuffer(file);\n",
              "    });\n",
              "    // Wait for the data to be ready.\n",
              "    let fileData = yield {\n",
              "      promise: fileDataPromise,\n",
              "      response: {\n",
              "        action: 'continue',\n",
              "      }\n",
              "    };\n",
              "\n",
              "    // Use a chunked sending to avoid message size limits. See b/62115660.\n",
              "    let position = 0;\n",
              "    do {\n",
              "      const length = Math.min(fileData.byteLength - position, MAX_PAYLOAD_SIZE);\n",
              "      const chunk = new Uint8Array(fileData, position, length);\n",
              "      position += length;\n",
              "\n",
              "      const base64 = btoa(String.fromCharCode.apply(null, chunk));\n",
              "      yield {\n",
              "        response: {\n",
              "          action: 'append',\n",
              "          file: file.name,\n",
              "          data: base64,\n",
              "        },\n",
              "      };\n",
              "\n",
              "      let percentDone = fileData.byteLength === 0 ?\n",
              "          100 :\n",
              "          Math.round((position / fileData.byteLength) * 100);\n",
              "      percent.textContent = `${percentDone}% done`;\n",
              "\n",
              "    } while (position < fileData.byteLength);\n",
              "  }\n",
              "\n",
              "  // All done.\n",
              "  yield {\n",
              "    response: {\n",
              "      action: 'complete',\n",
              "    }\n",
              "  };\n",
              "}\n",
              "\n",
              "scope.google = scope.google || {};\n",
              "scope.google.colab = scope.google.colab || {};\n",
              "scope.google.colab._files = {\n",
              "  _uploadFiles,\n",
              "  _uploadFilesContinue,\n",
              "};\n",
              "})(self);\n",
              "</script> "
            ]
          },
          "metadata": {}
        },
        {
          "output_type": "stream",
          "name": "stdout",
          "text": [
            "Saving Flood_Data.csv to Flood_Data (1).csv\n",
            "Original Columns: ['TimeStamp', 'LineCount', 'Distance ']\n",
            "Total rows before cleaning: 1778\n",
            "                 TimeStamp  LineCount  Distance \n",
            "0  19-05-2024_17-59-15.jpg         45       51.0\n",
            "1  19-09-2024_21-50-53.jpg         45       51.0\n",
            "2  19-05-2024_19-21-54.jpg         45       51.0\n",
            "3          frame_45000.jpg         45       51.0\n",
            "4  19-09-2024_20-45-59.jpg         45       51.0\n"
          ]
        }
      ]
    },
    {
      "cell_type": "code",
      "source": [
        "\n",
        "df.columns = [c.strip() for c in df.columns]\n",
        "print(\"Cleaned Columns:\", df.columns.tolist())\n"
      ],
      "metadata": {
        "colab": {
          "base_uri": "https://localhost:8080/"
        },
        "id": "ZsjXDWLg8oys",
        "outputId": "84836285-4992-441f-bef1-fbed5c4cf16f"
      },
      "execution_count": 31,
      "outputs": [
        {
          "output_type": "stream",
          "name": "stdout",
          "text": [
            "Cleaned Columns: ['TimeStamp', 'LineCount', 'Distance']\n"
          ]
        }
      ]
    },
    {
      "cell_type": "code",
      "source": [
        "import pandas as pd\n",
        "\n",
        "# Load original file\n",
        "df = pd.read_csv(\"Flood_Data.csv\")\n",
        "\n",
        "print(\"Total rows before cleaning:\", len(df))\n",
        "\n",
        "# Strip spaces in column names\n",
        "df.columns = [c.strip() for c in df.columns]\n",
        "\n",
        "# Keep only rows with proper timestamp format\n",
        "pattern = r\"^\\d{2}-\\d{2}-\\d{4}_\\d{2}-\\d{2}-\\d{2}\\.jpg$\"\n",
        "df = df[df['TimeStamp'].astype(str).str.match(pattern, na=False)]\n",
        "\n",
        "# Reset index\n",
        "df = df.reset_index(drop=True)\n",
        "\n",
        "print(\"Rows after cleaning:\", len(df))\n",
        "print(df.head(10))\n"
      ],
      "metadata": {
        "colab": {
          "base_uri": "https://localhost:8080/"
        },
        "id": "NCHF-S8N9Ty8",
        "outputId": "7a1b5534-7437-4da4-c70a-1794daa2fd7d"
      },
      "execution_count": 15,
      "outputs": [
        {
          "output_type": "stream",
          "name": "stdout",
          "text": [
            "Total rows before cleaning: 1778\n",
            "Rows after cleaning: 1312\n",
            "                 TimeStamp  LineCount  Distance\n",
            "0  19-05-2024_17-59-15.jpg         45      51.0\n",
            "1  19-09-2024_21-50-53.jpg         45      51.0\n",
            "2  19-05-2024_19-21-54.jpg         45      51.0\n",
            "3  19-09-2024_20-45-59.jpg         45      51.0\n",
            "4  19-09-2024_10-41-56.jpg         45      51.0\n",
            "5  19-09-2024_14-46-43.jpg         45      51.0\n",
            "6  19-09-2024_14-49-43.jpg         45      51.0\n",
            "7  19-03-2024_16-26-52.jpg         45      51.0\n",
            "8  19-09-2024_22-54-18.jpg         45      51.0\n",
            "9  19-09-2024_23-15-59.jpg         45      51.0\n"
          ]
        }
      ]
    },
    {
      "cell_type": "code",
      "source": [
        "# Step D - check Distance column\n",
        "df['Distance'] = pd.to_numeric(df['Distance'], errors='coerce')\n",
        "df = df.dropna(subset=['Distance']).reset_index(drop=True)\n",
        "\n",
        "print(\"Total rows after cleaning:\", len(df))\n",
        "print(df[['TimeStamp','Distance']].head())\n"
      ],
      "metadata": {
        "colab": {
          "base_uri": "https://localhost:8080/"
        },
        "id": "t7wLfmeR9ZSC",
        "outputId": "029e9c94-42b2-48a7-ed00-ea192675fc38"
      },
      "execution_count": 16,
      "outputs": [
        {
          "output_type": "stream",
          "name": "stdout",
          "text": [
            "Total rows after cleaning: 1312\n",
            "                 TimeStamp  Distance\n",
            "0  19-05-2024_17-59-15.jpg      51.0\n",
            "1  19-09-2024_21-50-53.jpg      51.0\n",
            "2  19-05-2024_19-21-54.jpg      51.0\n",
            "3  19-09-2024_20-45-59.jpg      51.0\n",
            "4  19-09-2024_10-41-56.jpg      51.0\n"
          ]
        }
      ]
    },
    {
      "cell_type": "code",
      "source": [
        "import pandas as pd\n",
        "\n",
        "# Load the original dataset\n",
        "df = pd.read_csv(\"Flood_Data.csv\")\n",
        "\n",
        "print(\"Total rows before cleaning:\", len(df))\n",
        "\n",
        "# Strip spaces in column names\n",
        "df.columns = [c.strip() for c in df.columns]\n",
        "\n",
        "# Keep only proper timestamp-format rows\n",
        "pattern = r\"^\\d{2}-\\d{2}-\\d{4}_\\d{2}-\\d{2}-\\d{2}\\.jpg$\"\n",
        "df = df[df['TimeStamp'].astype(str).str.match(pattern, na=False)]\n",
        "\n",
        "# Fix Distance column type\n",
        "df['Distance'] = pd.to_numeric(df['Distance'], errors='coerce')\n",
        "\n",
        "# Drop NaN distances\n",
        "df = df.dropna(subset=['Distance']).reset_index(drop=True)\n",
        "\n",
        "print(\"Rows after cleaning:\", len(df))\n",
        "print(df.head())\n"
      ],
      "metadata": {
        "colab": {
          "base_uri": "https://localhost:8080/"
        },
        "id": "KG2kBWi_9j4b",
        "outputId": "08fb5213-4055-4312-e345-b876829b4790"
      },
      "execution_count": 17,
      "outputs": [
        {
          "output_type": "stream",
          "name": "stdout",
          "text": [
            "Total rows before cleaning: 1778\n",
            "Rows after cleaning: 1312\n",
            "                 TimeStamp  LineCount  Distance\n",
            "0  19-05-2024_17-59-15.jpg         45      51.0\n",
            "1  19-09-2024_21-50-53.jpg         45      51.0\n",
            "2  19-05-2024_19-21-54.jpg         45      51.0\n",
            "3  19-09-2024_20-45-59.jpg         45      51.0\n",
            "4  19-09-2024_10-41-56.jpg         45      51.0\n"
          ]
        }
      ]
    },
    {
      "cell_type": "code",
      "source": [
        "print(\"Min Distance:\", df['Distance'].min())\n",
        "print(\"Max Distance:\", df['Distance'].max())\n",
        "print(\"Mean Distance:\", df['Distance'].mean())\n"
      ],
      "metadata": {
        "colab": {
          "base_uri": "https://localhost:8080/"
        },
        "id": "879CvPKG9mdB",
        "outputId": "ca93da97-c280-417f-816d-8088de880579"
      },
      "execution_count": 18,
      "outputs": [
        {
          "output_type": "stream",
          "name": "stdout",
          "text": [
            "Min Distance: 51.0\n",
            "Max Distance: 52.2\n",
            "Mean Distance: 51.47804878048779\n"
          ]
        }
      ]
    },
    {
      "cell_type": "code",
      "source": [
        "# Pick threshold (you can adjust after seeing stats)\n",
        "threshold = df['Distance'].mean()\n",
        "\n",
        "# Create binary labels\n",
        "df['label'] = (df['Distance'] <= threshold).astype(int)   # 1 = RED, 0 = GREEN\n",
        "df['label_str'] = df['label'].map({1: 'RED', 0: 'GREEN'})\n",
        "\n",
        "print(\"Threshold used:\", threshold)\n",
        "print(df[['TimeStamp','Distance','label_str']].head(10))\n"
      ],
      "metadata": {
        "colab": {
          "base_uri": "https://localhost:8080/"
        },
        "id": "uXpTBj4Z9qBq",
        "outputId": "8d615eb6-38b7-4fd1-81cf-d5f3ad0ea0f6"
      },
      "execution_count": 19,
      "outputs": [
        {
          "output_type": "stream",
          "name": "stdout",
          "text": [
            "Threshold used: 51.47804878048779\n",
            "                 TimeStamp  Distance label_str\n",
            "0  19-05-2024_17-59-15.jpg      51.0       RED\n",
            "1  19-09-2024_21-50-53.jpg      51.0       RED\n",
            "2  19-05-2024_19-21-54.jpg      51.0       RED\n",
            "3  19-09-2024_20-45-59.jpg      51.0       RED\n",
            "4  19-09-2024_10-41-56.jpg      51.0       RED\n",
            "5  19-09-2024_14-46-43.jpg      51.0       RED\n",
            "6  19-09-2024_14-49-43.jpg      51.0       RED\n",
            "7  19-03-2024_16-26-52.jpg      51.0       RED\n",
            "8  19-09-2024_22-54-18.jpg      51.0       RED\n",
            "9  19-09-2024_23-15-59.jpg      51.0       RED\n"
          ]
        }
      ]
    },
    {
      "cell_type": "code",
      "source": [
        "extract_dir = r\"C:\\Users\\Sampada Khadse\\Downloads\\ManjiraDam_data\"\n",
        "print(\"Using existing folder:\", extract_dir)"
      ],
      "metadata": {
        "colab": {
          "base_uri": "https://localhost:8080/"
        },
        "id": "AhfWFu1CACJC",
        "outputId": "dfdf4502-998d-4cfb-ae61-0f1410a07784"
      },
      "execution_count": 24,
      "outputs": [
        {
          "output_type": "stream",
          "name": "stdout",
          "text": [
            "Using existing folder: C:\\Users\\Sampada Khadse\\Downloads\\ManjiraDam_data\n"
          ]
        }
      ]
    },
    {
      "cell_type": "code",
      "source": [
        "import glob, os\n",
        "\n",
        "# Path to your extracted folder\n",
        "extract_dir = r\"C:\\Users\\Sampada Khadse\\Downloads\\ManjiraDam_data\"\n",
        "\n",
        "# Search for all .JPG and .jpg files inside all subfolders\n",
        "all_images = glob.glob(os.path.join(extract_dir, \"**\", \"*.JPG\"), recursive=True) + \\\n",
        "             glob.glob(os.path.join(extract_dir, \"**\", \"*.jpg\"), recursive=True)\n",
        "\n",
        "# Create dictionary {filename_lower : full_path}\n",
        "image_dict = {os.path.basename(p).lower(): p for p in all_images}\n",
        "\n",
        "# Map your cleaned CSV\n",
        "df['image_path'] = df['TimeStamp'].str.lower().map(image_dict)\n",
        "\n",
        "# Check missing matches\n",
        "missing = df['image_path'].isna().sum()\n",
        "print(f\"Missing image paths: {missing}\")\n",
        "print(df[['TimeStamp','Distance','label_str']].head(10))\n"
      ],
      "metadata": {
        "colab": {
          "base_uri": "https://localhost:8080/"
        },
        "id": "afsXHqRIBkKb",
        "outputId": "3457bd06-6a5c-4c1a-9e99-1dff190631b2"
      },
      "execution_count": 29,
      "outputs": [
        {
          "output_type": "stream",
          "name": "stdout",
          "text": [
            "Missing image paths: 1312\n",
            "                 TimeStamp  Distance label_str\n",
            "0  19-05-2024_17-59-15.jpg      51.0       RED\n",
            "1  19-09-2024_21-50-53.jpg      51.0       RED\n",
            "2  19-05-2024_19-21-54.jpg      51.0       RED\n",
            "3  19-09-2024_20-45-59.jpg      51.0       RED\n",
            "4  19-09-2024_10-41-56.jpg      51.0       RED\n",
            "5  19-09-2024_14-46-43.jpg      51.0       RED\n",
            "6  19-09-2024_14-49-43.jpg      51.0       RED\n",
            "7  19-03-2024_16-26-52.jpg      51.0       RED\n",
            "8  19-09-2024_22-54-18.jpg      51.0       RED\n",
            "9  19-09-2024_23-15-59.jpg      51.0       RED\n"
          ]
        }
      ]
    },
    {
      "cell_type": "code",
      "source": [
        "import glob, os\n",
        "\n",
        "extract_dir = r\"C:\\Users\\Sampada Khadse\\Downloads\\ManjiraDam_data\"\n",
        "\n",
        "# Get all files recursively\n",
        "all_files = glob.glob(os.path.join(extract_dir, \"**\", \"*\"), recursive=True)\n",
        "\n",
        "# Filter only image files (case-insensitive)\n",
        "images = [f for f in all_files if f.lower().endswith((\".jpg\", \".jpeg\", \".png\", \".bmp\", \".tif\", \".tiff\"))]\n",
        "\n",
        "print(\"Total image files found:\", len(images))\n",
        "print(\"First 20 images:\", [os.path.basename(p) for p in images[:20]])\n"
      ],
      "metadata": {
        "colab": {
          "base_uri": "https://localhost:8080/"
        },
        "id": "HKxkRbKhDUyH",
        "outputId": "1c11d0b5-1997-4e47-ac9d-8158e8087496"
      },
      "execution_count": 32,
      "outputs": [
        {
          "output_type": "stream",
          "name": "stdout",
          "text": [
            "Total image files found: 0\n",
            "First 20 images: []\n"
          ]
        }
      ]
    },
    {
      "cell_type": "code",
      "source": [
        "import pandas as pd\n",
        "\n",
        "# Load your CSV\n",
        "df = pd.read_csv(\"Flood_Data.csv\")  # Replace with your CSV path\n",
        "\n",
        "# Convert TimeStamp extension to .JPG\n",
        "df['TimeStamp'] = df['TimeStamp'].apply(lambda x: x.rsplit('.', 1)[0] + \".JPG\")\n",
        "\n",
        "# Save back if needed\n",
        "df.to_csv(\"Flood_Data.csv\", index=False)\n",
        "\n",
        "print(df.head())\n"
      ],
      "metadata": {
        "colab": {
          "base_uri": "https://localhost:8080/"
        },
        "id": "hBjnyJ87D2OW",
        "outputId": "44b44ab9-494f-4dbd-e7e9-99bec0242368"
      },
      "execution_count": 33,
      "outputs": [
        {
          "output_type": "stream",
          "name": "stdout",
          "text": [
            "                 TimeStamp  LineCount  Distance \n",
            "0  19-05-2024_17-59-15.JPG         45       51.0\n",
            "1  19-09-2024_21-50-53.JPG         45       51.0\n",
            "2  19-05-2024_19-21-54.JPG         45       51.0\n",
            "3          frame_45000.JPG         45       51.0\n",
            "4  19-09-2024_20-45-59.JPG         45       51.0\n"
          ]
        }
      ]
    },
    {
      "cell_type": "code",
      "source": [
        "import pandas as pd\n",
        "\n",
        "# Load the original dataset\n",
        "df = pd.read_csv(\"Flood_Data.csv\")\n",
        "\n",
        "print(\"Total rows before cleaning:\", len(df))\n",
        "\n",
        "# Strip spaces in column names\n",
        "df.columns = [c.strip() for c in df.columns]\n",
        "\n",
        "# Keep only proper timestamp-format rows\n",
        "pattern = r\"^\\d{2}-\\d{2}-\\d{4}_\\d{2}-\\d{2}-\\d{2}\\.JPG$\"\n",
        "df = df[df['TimeStamp'].astype(str).str.match(pattern, na=False)]\n",
        "\n",
        "# Fix Distance column type\n",
        "df['Distance'] = pd.to_numeric(df['Distance'], errors='coerce')\n",
        "\n",
        "# Drop NaN distances\n",
        "df = df.dropna(subset=['Distance']).reset_index(drop=True)\n",
        "\n",
        "print(\"Rows after cleaning:\", len(df))\n",
        "print(df.head())\n"
      ],
      "metadata": {
        "colab": {
          "base_uri": "https://localhost:8080/"
        },
        "id": "Coir-szeEGSp",
        "outputId": "97360e49-0230-4b7e-f21c-2acfb3924eff"
      },
      "execution_count": 34,
      "outputs": [
        {
          "output_type": "stream",
          "name": "stdout",
          "text": [
            "Total rows before cleaning: 1778\n",
            "Rows after cleaning: 1312\n",
            "                 TimeStamp  LineCount  Distance\n",
            "0  19-05-2024_17-59-15.JPG         45      51.0\n",
            "1  19-09-2024_21-50-53.JPG         45      51.0\n",
            "2  19-05-2024_19-21-54.JPG         45      51.0\n",
            "3  19-09-2024_20-45-59.JPG         45      51.0\n",
            "4  19-09-2024_10-41-56.JPG         45      51.0\n"
          ]
        }
      ]
    },
    {
      "cell_type": "code",
      "source": [
        "import glob, os\n",
        "\n",
        "extract_dir = r\"C:\\Users\\Sampada Khadse\\Downloads\\ManjiraDam_data\\ManjiraDam_data\\Final-datasets28\"\n",
        "\n",
        "# Get all files recursively\n",
        "all_files = glob.glob(os.path.join(extract_dir, \"**\", \"*\"), recursive=True)\n",
        "\n",
        "# Filter only image files (case-insensitive)\n",
        "images = [f for f in all_files if f.lower().endswith((\".jpg\", \".jpeg\", \".png\", \".bmp\", \".tif\", \".tiff\"))]\n",
        "\n",
        "print(\"Total image files found:\", len(images))\n",
        "print(\"First 20 images:\", [os.path.basename(p) for p in images[:20]])\n"
      ],
      "metadata": {
        "colab": {
          "base_uri": "https://localhost:8080/"
        },
        "id": "BjBlQ6LGEMt0",
        "outputId": "cc54de5f-40d0-41d3-9f9c-6692bc88b99e"
      },
      "execution_count": 46,
      "outputs": [
        {
          "output_type": "stream",
          "name": "stdout",
          "text": [
            "Total image files found: 0\n",
            "First 20 images: []\n"
          ]
        }
      ]
    }
  ]
}